{
  "nbformat": 4,
  "nbformat_minor": 0,
  "metadata": {
    "colab": {
      "provenance": [],
      "authorship_tag": "ABX9TyMEuCLb2NAH2m6YLSE3iWP2",
      "include_colab_link": true
    },
    "kernelspec": {
      "name": "python3",
      "display_name": "Python 3"
    },
    "language_info": {
      "name": "python"
    }
  },
  "cells": [
    {
      "cell_type": "markdown",
      "metadata": {
        "id": "view-in-github",
        "colab_type": "text"
      },
      "source": [
        "<a href=\"https://colab.research.google.com/github/DragonSonBlaze/CN-assignment-2/blob/main/ML_prerequisites.ipynb\" target=\"_parent\"><img src=\"https://colab.research.google.com/assets/colab-badge.svg\" alt=\"Open In Colab\"/></a>"
      ]
    },
    {
      "cell_type": "markdown",
      "source": [
        "Manav Parmar\n",
        "21110120"
      ],
      "metadata": {
        "id": "wsc1S0kA1frL"
      }
    },
    {
      "cell_type": "markdown",
      "source": [
        "Q1. The number of multiplications is k*n*m and the number of additions will be (k-1)*n*m\n"
      ],
      "metadata": {
        "id": "Ydpmer4RiQkv"
      }
    },
    {
      "cell_type": "markdown",
      "source": [
        "Q2."
      ],
      "metadata": {
        "id": "nvOJwhlSinlI"
      }
    },
    {
      "cell_type": "code",
      "source": [
        "import numpy as np\n",
        "import time\n",
        "def matMul(mat1,mat2):\n",
        "    arr=np.empty((len(mat1),len(mat2[0])))\n",
        "    for i in range (len(mat1)): # selecting the row of first matrix\n",
        "        for j in range (len(mat2[0])): #selecting the column of the second matrix\n",
        "            a=0\n",
        "            for k in range (len(mat2)): #selecting the specific element\n",
        "                a+= mat1[i][k]*mat2[k][j]\n",
        "            arr[i][j]=a\n",
        "    print(arr)\n",
        "\n",
        "a=[[1,2],[3,4]]\n",
        "b=[[5,6],[7,8]]\n",
        "\n",
        "s1=time.time()\n",
        "matMul(a,b)\n",
        "s2=time.time()\n",
        "print('the time for normal multiplication is ',s2-s1)\n",
        "\n",
        "c=np.array(a)\n",
        "d=np.array(b)\n",
        "s3=time.time()\n",
        "matMul(c,d)\n",
        "s4=time.time()\n",
        "print('the time for numpy matrix multiplication is ',s4-s3)\n"
      ],
      "metadata": {
        "colab": {
          "base_uri": "https://localhost:8080/"
        },
        "id": "nBCyISmdiqqy",
        "outputId": "417e56e4-a5c1-4767-a667-5ddd04d4c6b7"
      },
      "execution_count": null,
      "outputs": [
        {
          "output_type": "stream",
          "name": "stdout",
          "text": [
            "[[19. 22.]\n",
            " [43. 50.]]\n",
            "the time for normal multiplication is  0.006789207458496094\n",
            "[[19. 22.]\n",
            " [43. 50.]]\n",
            "the time for numpy matrix multiplication is  0.0006818771362304688\n"
          ]
        }
      ]
    },
    {
      "cell_type": "markdown",
      "source": [
        "Q2.\n",
        " As it can be seen from the above code the numpy arrays have better timings.\n",
        " This is because the numpy arrays have contigous memory layout which allows it to take advantage of low-level operation and efficient memory access patterns"
      ],
      "metadata": {
        "id": "Cj4brzmri5Me"
      }
    },
    {
      "cell_type": "markdown",
      "source": [
        "Q3."
      ],
      "metadata": {
        "id": "VwkUU7VzjFrb"
      }
    },
    {
      "cell_type": "code",
      "execution_count": null,
      "metadata": {
        "colab": {
          "base_uri": "https://localhost:8080/"
        },
        "id": "r6yQoGKifT40",
        "outputId": "cfdd296f-dd12-4103-f53e-a43994439045"
      },
      "outputs": [
        {
          "output_type": "stream",
          "name": "stdout",
          "text": [
            "4.5\n",
            "The time with mentioned method is : 0.003779172897338867\n",
            "4.5\n",
            "numpy.median time is : 0.0051229000091552734\n",
            "4.5\n",
            "The time with the sorting method is : 0.00014591217041015625\n"
          ]
        }
      ],
      "source": [
        "import numpy as np\n",
        "import time as time\n",
        "def n2Method(arr):\n",
        "    for i in range(len(arr)):\n",
        "        a = 0\n",
        "        b = len(arr) - i - 1\n",
        "        for j in range(0, len(arr) - i):\n",
        "            if arr[j] > a:\n",
        "                a = arr[j]\n",
        "                b = j\n",
        "        c = arr[b]\n",
        "        arr[b] = arr[len(arr) - i - 1]\n",
        "        arr[len(arr) - i - 1] = c\n",
        "\n",
        "    if len(arr) % 2 == 0:\n",
        "        mid1 = len(arr) // 2\n",
        "        mid2 = mid1 - 1\n",
        "        return (arr[mid1] + arr[mid2]) / 2\n",
        "    else:\n",
        "        return arr[len(arr) // 2]\n",
        "\n",
        "def sortingMethod(arr):\n",
        "    b=sorted(arr)\n",
        "    if len(b) % 2 == 0:\n",
        "        mid1 = len(b) // 2\n",
        "        mid2 = mid1 - 1\n",
        "        return (b[mid1] + b[mid2]) / 2\n",
        "    else:\n",
        "        return b[len(arr) // 2]\n",
        "\n",
        "arr = [4, 2, 7, 1, 5, 8, 3, 6]\n",
        "arr=np.array(arr)\n",
        "\n",
        "s1=time.time()\n",
        "print(n2Method(arr))\n",
        "e1=time.time()\n",
        "print(\"The time with mentioned method is :\", e1-s1)\n",
        "\n",
        "s2=time.time()\n",
        "print(np.median(arr))\n",
        "e2=time.time()\n",
        "print(\"numpy.median time is :\", e2-s2)\n",
        "\n",
        "s3=time.time()\n",
        "print(sortingMethod(arr))\n",
        "e3=time.time()\n",
        "print('The time with the sorting method is :', e3-s3)"
      ]
    },
    {
      "cell_type": "markdown",
      "source": [
        "Q4.  gradient with respect to x = 2*x*y + y^3*cosx and\n",
        " gradient with respect to y = x^2 + 3*y^2*sinx\n",
        "\n",
        "\n",
        "\n"
      ],
      "metadata": {
        "id": "O6Ic1uY4jVho"
      }
    },
    {
      "cell_type": "markdown",
      "source": [
        "Q5."
      ],
      "metadata": {
        "id": "RizdZ4ikjwB2"
      }
    },
    {
      "cell_type": "code",
      "source": [
        "import jax\n",
        "import jax.numpy as jnp\n",
        "\n",
        "def function(x, y):\n",
        "    return x**2 * y + y**3 * jnp.sin(x)\n",
        "gradient = jax.grad(function, argnums=(0, 1))\n",
        "p1=(0.0,1.0)\n",
        "p2=(jnp.pi,2.0)\n",
        "print(\"gradient at point 1 using jax :\",gradient(*p1))\n",
        "print('gradient at point 2 using jax :', gradient(*p2))\n"
      ],
      "metadata": {
        "colab": {
          "base_uri": "https://localhost:8080/"
        },
        "id": "tnK0d5f5j6nc",
        "outputId": "b4ef948d-d5ce-42c0-bd76-6511451c79da"
      },
      "execution_count": null,
      "outputs": [
        {
          "output_type": "stream",
          "name": "stdout",
          "text": [
            "gradient at point 1 using jax : (Array(1., dtype=float32, weak_type=True), Array(0., dtype=float32, weak_type=True))\n",
            "gradient at point 2 using jax : (Array(4.566371, dtype=float32, weak_type=True), Array(9.869604, dtype=float32, weak_type=True))\n"
          ]
        }
      ]
    },
    {
      "cell_type": "markdown",
      "source": [
        "Q6."
      ],
      "metadata": {
        "id": "hGrFzYZ1m26X"
      }
    },
    {
      "cell_type": "code",
      "source": [
        "import sympy as sp\n",
        "import jax.numpy as jnp # taken only for taking the pie value\n",
        "x,y=sp.symbols('x y')\n",
        "fun = x**2 * y + y**3 * sp.sin(x)\n",
        "\n",
        "gradx=sp.diff(fun,x)\n",
        "grady=sp.diff(fun,y)\n",
        "p1=(0.0,1.0)\n",
        "p2=(jnp.pi,2.0)\n",
        "\n",
        "gradx1 = gradx.subs({x: p1[0], y: p1[1]})\n",
        "gradx2 = gradx.subs({x: p2[0], y: p2[1]})\n",
        "grady1 = grady.subs({x: p1[0], y: p1[1]})\n",
        "grady2 = grady.subs({x: p2[0], y: p2[1]})\n",
        "\n",
        "print(\"gradient of first point with respect to x and y respectively is \", gradx1, grady1)\n",
        "print(\"gradient of second point with respect to x and y respectively is \", gradx2, grady2)\n",
        "\n",
        "\n",
        "\n",
        "\n",
        "\n"
      ],
      "metadata": {
        "colab": {
          "base_uri": "https://localhost:8080/"
        },
        "id": "Emthm6DPm2Wk",
        "outputId": "7f8df2c3-702b-41be-a916-6a69d50f295f"
      },
      "execution_count": null,
      "outputs": [
        {
          "output_type": "stream",
          "name": "stdout",
          "text": [
            "gradient of first point with respect to x and y respectively is  1.00000000000000 0.0\n",
            "gradient of second point with respect to x and y respectively is  4.56637061435917 9.86960440108936\n"
          ]
        }
      ]
    },
    {
      "cell_type": "markdown",
      "source": [
        "Q7."
      ],
      "metadata": {
        "id": "1dWieNbDpJE5"
      }
    },
    {
      "cell_type": "code",
      "source": [
        "record = {\n",
        "    2022: {\n",
        "        'Branch 1': {\n",
        "            'Roll Number': 1,\n",
        "            'Name': 'N',\n",
        "            'Marks': {\n",
        "                'Maths': 100,\n",
        "                'English': 70,\n",
        "                'Ml':100,\n",
        "            }\n",
        "        },\n",
        "        'Branch 2': {\n",
        "        }\n",
        "    },\n",
        "    2023: {\n",
        "        'Branch 1': {},\n",
        "        'Branch 2': {},\n",
        "    },\n",
        "    2024: {\n",
        "        'Branch 1': {},\n",
        "        'Branch 2': {},\n",
        "    },\n",
        "    2025: {\n",
        "        'Branch 1': {},\n",
        "        'Branch 2': {},\n",
        "    }\n",
        "}\n",
        "\n",
        "roll_no = record[2022]['Branch 1']['Roll Number']\n",
        "name = record[2022]['Branch 1']['Name']\n",
        "marks = record[2022]['Branch 1']['Marks']\n",
        "\n",
        "print(\"Roll Number:\", roll_no)\n",
        "print(\"Name:\", name)\n",
        "print(\"Marks:\", marks)\n"
      ],
      "metadata": {
        "colab": {
          "base_uri": "https://localhost:8080/"
        },
        "id": "uUbQ3oT2pIvT",
        "outputId": "22632878-8f94-4f27-83db-bdf33cc3fc78"
      },
      "execution_count": null,
      "outputs": [
        {
          "output_type": "stream",
          "name": "stdout",
          "text": [
            "Roll Number: 1\n",
            "Name: N\n",
            "Marks: {'Maths': 100, 'English': 70, 'Ml': 100}\n"
          ]
        }
      ]
    },
    {
      "cell_type": "markdown",
      "source": [
        "Q8.\n"
      ],
      "metadata": {
        "id": "FN-RdZNHtgVJ"
      }
    },
    {
      "cell_type": "code",
      "source": [
        "class Student:\n",
        "    def __init__(self, roll_number, name, marks):\n",
        "        self.roll_number = roll_number\n",
        "        self.name = name\n",
        "        self.marks = marks\n",
        "\n",
        "class Branch:\n",
        "    def __init__(self, branch_name):\n",
        "        self.branch_name = branch_name\n",
        "        self.students = []\n",
        "\n",
        "    def addStudent(self, student):\n",
        "        self.students.append(student)\n",
        "\n",
        "class Year:\n",
        "    def __init__(self, year):\n",
        "        self.year = year\n",
        "        self.branches = []\n",
        "\n",
        "    def addBranch(self, branch):\n",
        "        self.branches.append(branch)\n",
        "\n",
        "s1 = Student(1, 'N', {'Maths': 100, 'English': 70, 'Ml':100})\n",
        "branch1 = Branch('Branch 1')\n",
        "branch1.addStudent(s1)\n",
        "\n",
        "branch2 = Branch('Branch 2')\n",
        "\n",
        "year22 = Year(2022)\n",
        "year22.addBranch(branch1)\n",
        "year22.addBranch(branch2)\n",
        "\n",
        "\n",
        "database = [year22]\n",
        "\n",
        "rollno = database[0].branches[0].students[0].roll_number\n",
        "name = database[0].branches[0].students[0].name\n",
        "marks = database[0].branches[0].students[0].marks\n",
        "\n",
        "print(\"Roll Number:\", rollno)\n",
        "print(\"Name:\", name)\n",
        "print(\"Marks:\", marks)\n"
      ],
      "metadata": {
        "colab": {
          "base_uri": "https://localhost:8080/"
        },
        "id": "wpHG_HUXtiKk",
        "outputId": "70c69cd9-d5de-4462-e67b-1f36cf109584"
      },
      "execution_count": null,
      "outputs": [
        {
          "output_type": "stream",
          "name": "stdout",
          "text": [
            "Roll Number: 1\n",
            "Name: N\n",
            "Marks: {'Maths': 100, 'English': 70, 'Ml': 100}\n"
          ]
        }
      ]
    },
    {
      "cell_type": "markdown",
      "source": [
        "Q9.\n"
      ],
      "metadata": {
        "id": "jiBhAlmvwV5M"
      }
    },
    {
      "cell_type": "code",
      "source": [
        "import matplotlib.pyplot as plt\n",
        "import numpy as np\n",
        "\n",
        "def f1(x):\n",
        "    return x\n",
        "def f2(x):\n",
        "    return x**2\n",
        "def f3(x):\n",
        "    return x**3/100\n",
        "def f4(x):\n",
        "    return np.sin(x)\n",
        "def f5(x):\n",
        "    return np.sin(x)/x\n",
        "def f6(x):\n",
        "    return np.log(x)\n",
        "def f7(x):\n",
        "    return np.exp(x)\n",
        "\n",
        "\n",
        "x=np.arange(0.5,100.0,0.5)\n",
        "y=f5(x) # change the function\n",
        "# to plot simply change the function and change the title as it will always show y=x\n",
        "plt.plot(x,y)\n",
        "plt.title('plot of y=x')\n",
        "plt.legend()\n",
        "plt.show()\n"
      ],
      "metadata": {
        "colab": {
          "base_uri": "https://localhost:8080/",
          "height": 490
        },
        "id": "1nI_slLwwXLB",
        "outputId": "25519e63-0f5d-4b6d-b801-b5ff7be3c057"
      },
      "execution_count": null,
      "outputs": [
        {
          "output_type": "stream",
          "name": "stderr",
          "text": [
            "WARNING:matplotlib.legend:No artists with labels found to put in legend.  Note that artists whose label start with an underscore are ignored when legend() is called with no argument.\n"
          ]
        },
        {
          "output_type": "display_data",
          "data": {
            "text/plain": [
              "<Figure size 640x480 with 1 Axes>"
            ],
            "image/png": "[encoded data removed]"
          },
          "metadata": {}
        }
      ]
    },
    {
      "cell_type": "markdown",
      "source": [
        "Q10.\n"
      ],
      "metadata": {
        "id": "4WBk6sg1w0cJ"
      }
    },
    {
      "cell_type": "code",
      "source": [
        "10\n",
        "import numpy as np\n",
        "import pandas as pd\n",
        "mat=np.random.uniform(1,2,size=(20,5))\n",
        "datamat=pd.DataFrame(mat, columns=['a','b','c','d','e'])\n",
        "print(datamat)\n",
        "print(\"Column with highes standard deviation \", datamat.std(axis=1).idxmax())\n",
        "print(\"row with lowest mean \",datamat.mean().idxmin())"
      ],
      "metadata": {
        "colab": {
          "base_uri": "https://localhost:8080/"
        },
        "id": "1d-1immLw2S0",
        "outputId": "4af3c8a8-6cbf-43bd-f36d-751a62014b80"
      },
      "execution_count": null,
      "outputs": [
        {
          "output_type": "stream",
          "name": "stdout",
          "text": [
            "           a         b         c         d         e\n",
            "0   1.819193  1.196936  1.873662  1.601971  1.542797\n",
            "1   1.516290  1.562583  1.967144  1.152726  1.606113\n",
            "2   1.920786  1.196154  1.049505  1.701618  1.326160\n",
            "3   1.633156  1.162162  1.466917  1.392803  1.121653\n",
            "4   1.225078  1.698456  1.019022  1.643140  1.181738\n",
            "5   1.324751  1.601480  1.524900  1.602345  1.283159\n",
            "6   1.488306  1.752365  1.207979  1.683658  1.458983\n",
            "7   1.273677  1.140332  1.003326  1.124332  1.328571\n",
            "8   1.731798  1.464238  1.279913  1.308909  1.966904\n",
            "9   1.728696  1.153043  1.439971  1.692662  1.236032\n",
            "10  1.560581  1.204554  1.142768  1.562085  1.652050\n",
            "11  1.150109  1.325705  1.241082  1.466609  1.605496\n",
            "12  1.202298  1.936993  1.264412  1.489539  1.959539\n",
            "13  1.907413  1.492396  1.878817  1.978897  1.281896\n",
            "14  1.182981  1.414394  1.442590  1.819846  1.878777\n",
            "15  1.113690  1.655012  1.792263  1.681454  1.320897\n",
            "16  1.557128  1.132951  1.836113  1.251488  1.635695\n",
            "17  1.752206  1.899317  1.371488  1.865304  1.530352\n",
            "18  1.282848  1.585014  1.051101  1.026599  1.576535\n",
            "19  1.516430  1.143039  1.377083  1.130830  1.349675\n",
            "Column with highes standard deviation  2\n",
            "row with lowest mean  c\n"
          ]
        }
      ]
    },
    {
      "cell_type": "markdown",
      "source": [
        "Q11.\n"
      ],
      "metadata": {
        "id": "Y1XDOmR0xDBd"
      }
    },
    {
      "cell_type": "code",
      "source": [
        "import numpy as np\n",
        "import pandas as pd\n",
        "mat=np.random.uniform(1,2,size=(20,5))\n",
        "mat=pd.DataFrame(mat, columns=['a','b','c','d','e'])\n",
        "\n",
        "mat['f']=mat[['a','b','c','d','e']].sum(axis=1)\n",
        "print(mat)\n",
        "mat['g']=np.where(mat['f']<8,'LT8','GT8')\n",
        "print(mat)\n",
        "print(\"rows where g= LT8 :\", mat[mat['g']=='LT8'].shape[0])\n",
        "print(\"the standard deviation where g if LT8 \", mat.loc[mat['g']=='LT8','f'].std())\n",
        "print(\"the standard deviation where g if GT8 \", mat.loc[mat['g']=='GT8','f'].std())"
      ],
      "metadata": {
        "colab": {
          "base_uri": "https://localhost:8080/"
        },
        "id": "f9CZlXrDxEMO",
        "outputId": "e634a0ad-c855-48e9-b7b0-43258059cb83"
      },
      "execution_count": null,
      "outputs": [
        {
          "output_type": "stream",
          "name": "stdout",
          "text": [
            "           a         b         c         d         e         f\n",
            "0   1.204731  1.834216  1.096106  1.817966  1.299036  7.252054\n",
            "1   1.878369  1.006894  1.525789  1.165071  1.735192  7.311315\n",
            "2   1.031483  1.096541  1.334399  1.248391  1.812356  6.523170\n",
            "3   1.360159  1.373797  1.991317  1.992473  1.654981  8.372726\n",
            "4   1.436547  1.428740  1.497773  1.167020  1.871910  7.401989\n",
            "5   1.898886  1.107741  1.437921  1.287200  1.150527  6.882275\n",
            "6   1.904263  1.652066  1.583099  1.604689  1.183175  7.927293\n",
            "7   1.839794  1.012152  1.677104  1.395330  1.520046  7.444425\n",
            "8   1.800585  1.747035  1.352342  1.876593  1.541991  8.318546\n",
            "9   1.860096  1.933308  1.218234  1.822331  1.132282  7.966251\n",
            "10  1.154980  1.823468  1.111078  1.929487  1.481015  7.500028\n",
            "11  1.750061  1.825586  1.941859  1.452727  1.733619  8.703851\n",
            "12  1.330955  1.019827  1.847938  1.101449  1.944058  7.244227\n",
            "13  1.141530  1.807030  1.195175  1.286352  1.381629  6.811715\n",
            "14  1.527556  1.987856  1.000404  1.797283  1.253405  7.566505\n",
            "15  1.910547  1.018602  1.273691  1.275921  1.676078  7.154839\n",
            "16  1.458742  1.964054  1.988697  1.128640  1.809848  8.349982\n",
            "17  1.104392  1.091935  1.594200  1.878461  1.141870  6.810858\n",
            "18  1.402431  1.676550  1.802891  1.470138  1.312238  7.664248\n",
            "19  1.797855  1.204862  1.241599  1.150114  1.884923  7.279353\n",
            "           a         b         c         d         e         f    g\n",
            "0   1.204731  1.834216  1.096106  1.817966  1.299036  7.252054  LT8\n",
            "1   1.878369  1.006894  1.525789  1.165071  1.735192  7.311315  LT8\n",
            "2   1.031483  1.096541  1.334399  1.248391  1.812356  6.523170  LT8\n",
            "3   1.360159  1.373797  1.991317  1.992473  1.654981  8.372726  GT8\n",
            "4   1.436547  1.428740  1.497773  1.167020  1.871910  7.401989  LT8\n",
            "5   1.898886  1.107741  1.437921  1.287200  1.150527  6.882275  LT8\n",
            "6   1.904263  1.652066  1.583099  1.604689  1.183175  7.927293  LT8\n",
            "7   1.839794  1.012152  1.677104  1.395330  1.520046  7.444425  LT8\n",
            "8   1.800585  1.747035  1.352342  1.876593  1.541991  8.318546  GT8\n",
            "9   1.860096  1.933308  1.218234  1.822331  1.132282  7.966251  LT8\n",
            "10  1.154980  1.823468  1.111078  1.929487  1.481015  7.500028  LT8\n",
            "11  1.750061  1.825586  1.941859  1.452727  1.733619  8.703851  GT8\n",
            "12  1.330955  1.019827  1.847938  1.101449  1.944058  7.244227  LT8\n",
            "13  1.141530  1.807030  1.195175  1.286352  1.381629  6.811715  LT8\n",
            "14  1.527556  1.987856  1.000404  1.797283  1.253405  7.566505  LT8\n",
            "15  1.910547  1.018602  1.273691  1.275921  1.676078  7.154839  LT8\n",
            "16  1.458742  1.964054  1.988697  1.128640  1.809848  8.349982  GT8\n",
            "17  1.104392  1.091935  1.594200  1.878461  1.141870  6.810858  LT8\n",
            "18  1.402431  1.676550  1.802891  1.470138  1.312238  7.664248  LT8\n",
            "19  1.797855  1.204862  1.241599  1.150114  1.884923  7.279353  LT8\n",
            "rows where g= LT8 : 16\n",
            "the standard deviation where g if LT8  0.39956768746127924\n",
            "the standard deviation where g if GT8  0.17976122670119338\n"
          ]
        }
      ]
    },
    {
      "cell_type": "markdown",
      "source": [
        "Q12. Broadcasting is the method used in python wherein we make the dimensions of the two given matrix equal in order perform operations by spreading/ broadcasting the smaller of the two matrixes"
      ],
      "metadata": {
        "id": "GQ3Ps1BtxJAB"
      }
    },
    {
      "cell_type": "code",
      "source": [
        "import numpy as np\n",
        "a= np.array([1,2,3])\n",
        "b = np.array([[1,2,3],[1,2,3],[1,2,3]])\n",
        "print(b+10) # here the scalar is converted to 3*3 matrix and then operated\n",
        "print(a+b)  # here the a matrix is broadcasted to get a 3*3 matrix"
      ],
      "metadata": {
        "id": "xRI-xJvMxZgb"
      },
      "execution_count": null,
      "outputs": []
    },
    {
      "cell_type": "markdown",
      "source": [
        "Q13."
      ],
      "metadata": {
        "id": "Qu7D8LLnxfoW"
      }
    },
    {
      "cell_type": "code",
      "source": [
        "import numpy as np\n",
        "def Min(arr):\n",
        "    a=float('inf')\n",
        "    ans=-1\n",
        "    for i in range(len(arr)):\n",
        "        if a> arr[i]:\n",
        "            a=arr[i]\n",
        "            ans=i\n",
        "    return ans\n",
        "arr =np.array([1,-2,3,4,100])\n",
        "print(\"the index of minimum element with the manual method is \",Min(arr))\n",
        "print(\"the index of minimum element using the np.argmin is \",np.argmin(arr))"
      ],
      "metadata": {
        "id": "LMylTSzrxj13",
        "outputId": "71837ae4-9a79-4265-f908-9472c815cf2d",
        "colab": {
          "base_uri": "https://localhost:8080/"
        }
      },
      "execution_count": null,
      "outputs": [
        {
          "output_type": "stream",
          "name": "stdout",
          "text": [
            "the index of minimum element with the manual method is  1\n",
            "the index of minimum element using the np.argmin is  1\n"
          ]
        }
      ]
    }
  ]
}